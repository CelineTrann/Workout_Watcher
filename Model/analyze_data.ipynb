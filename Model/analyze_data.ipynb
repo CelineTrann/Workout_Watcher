{
 "cells": [
  {
   "cell_type": "code",
   "execution_count": 2,
   "metadata": {},
   "outputs": [],
   "source": [
    "import numpy as np\n",
    "import pandas as pd\n",
    "import matplotlib as plt\n",
    "\n",
    "%matplotlib inline"
   ]
  },
  {
   "cell_type": "code",
   "execution_count": 3,
   "metadata": {},
   "outputs": [
    {
     "name": "stdout",
     "output_type": "stream",
     "text": [
      "   centroid_x   centroid_y     height      width   rotation  label\n",
      "0   12.500000    14.000000  17.000000  14.000000  90.000000   foot\n",
      "1    3.000000     8.000000   6.000000  16.000000  90.000000   foot\n",
      "2   13.386599    12.505155  13.808708  19.596182  23.962492   foot\n",
      "3   11.500000    11.500000  23.000000   9.000000  90.000000   foot\n",
      "4   11.500000     7.500000  15.000000   9.000000  90.000000   foot\n"
     ]
    }
   ],
   "source": [
    "data = pd.read_csv(\"C:\\\\Users\\\\crona\\\\Downloads\\\\4B_tron\\\\Capstone\\\\Workout_Watcher\\\\test_or.csv\")\n",
    "# data = pd.read_csv(\"C:\\\\Users\\\\crona\\\\Downloads\\\\4B_tron\\\\Capstone\\\\Workout_Watcher\\\\test1.csv\")\n",
    "print(data.head())"
   ]
  },
  {
   "cell_type": "code",
   "execution_count": 4,
   "metadata": {},
   "outputs": [
    {
     "name": "stdout",
     "output_type": "stream",
     "text": [
      "0    foot\n",
      "1    foot\n",
      "2    foot\n",
      "3    foot\n",
      "4    foot\n",
      "Name:  label, dtype: object\n"
     ]
    }
   ],
   "source": [
    "y = data[data.columns[5]]\n",
    "print(y.head())"
   ]
  },
  {
   "cell_type": "code",
   "execution_count": 5,
   "metadata": {},
   "outputs": [
    {
     "name": "stdout",
     "output_type": "stream",
     "text": [
      "      height      width\n",
      "0  17.000000  14.000000\n",
      "1   6.000000  16.000000\n",
      "2  13.808708  19.596182\n",
      "3  23.000000   9.000000\n",
      "4  15.000000   9.000000\n"
     ]
    }
   ],
   "source": [
    "x = data[data.columns[[2, 3]]]\n",
    "print(x.head())"
   ]
  },
  {
   "cell_type": "code",
   "execution_count": 143,
   "metadata": {},
   "outputs": [],
   "source": [
    "from sklearn.model_selection import train_test_split\n",
    "\n",
    "X_train, X_test, Y_train, Y_test = train_test_split(x, y, test_size=0.2)"
   ]
  },
  {
   "attachments": {},
   "cell_type": "markdown",
   "metadata": {},
   "source": [
    "# Train Models"
   ]
  },
  {
   "attachments": {},
   "cell_type": "markdown",
   "metadata": {},
   "source": [
    "## Linear SVC"
   ]
  },
  {
   "cell_type": "code",
   "execution_count": 144,
   "metadata": {},
   "outputs": [
    {
     "name": "stdout",
     "output_type": "stream",
     "text": [
      "0.5862068965517241\n",
      "0.5517241379310345\n"
     ]
    },
    {
     "name": "stderr",
     "output_type": "stream",
     "text": [
      "c:\\Users\\crona\\AppData\\Local\\Programs\\Python\\Python39\\lib\\site-packages\\sklearn\\svm\\_base.py:1244: ConvergenceWarning: Liblinear failed to converge, increase the number of iterations.\n",
      "  warnings.warn(\n"
     ]
    }
   ],
   "source": [
    "from sklearn.svm import LinearSVC, SVC\n",
    "\n",
    "clf1 = SVC(kernel='linear')\n",
    "clf2 = LinearSVC()\n",
    "\n",
    "clf1.fit(X_train, Y_train)\n",
    "clf2.fit(X_train, Y_train)\n",
    "\n",
    "print(clf1.score(X_test, Y_test))\n",
    "print(clf2.score(X_test, Y_test))"
   ]
  },
  {
   "attachments": {},
   "cell_type": "markdown",
   "metadata": {},
   "source": [
    "## KNeighbourhood "
   ]
  },
  {
   "cell_type": "code",
   "execution_count": 145,
   "metadata": {},
   "outputs": [
    {
     "name": "stdout",
     "output_type": "stream",
     "text": [
      "0.7586206896551724\n"
     ]
    }
   ],
   "source": [
    "from sklearn.neighbors import KNeighborsClassifier\n",
    "\n",
    "clf3 = KNeighborsClassifier(3)\n",
    "clf3.fit(X_train, Y_train)\n",
    "\n",
    "print(clf3.score(X_test, Y_test))"
   ]
  },
  {
   "attachments": {},
   "cell_type": "markdown",
   "metadata": {},
   "source": [
    "## Ensemble"
   ]
  },
  {
   "cell_type": "code",
   "execution_count": 146,
   "metadata": {},
   "outputs": [
    {
     "name": "stdout",
     "output_type": "stream",
     "text": [
      "0.5862068965517241\n",
      "0.6206896551724138\n"
     ]
    }
   ],
   "source": [
    "from sklearn.ensemble import RandomForestClassifier, AdaBoostClassifier\n",
    "\n",
    "clf4 = RandomForestClassifier(max_depth=5, n_estimators=5, max_features=1)\n",
    "clf5 = AdaBoostClassifier()\n",
    "\n",
    "clf4.fit(X_train, Y_train)\n",
    "clf5.fit(X_train, Y_train)\n",
    "\n",
    "# Model Performance \n",
    "print(clf4.score(X_test, Y_test))\n",
    "print(clf5.score(X_test, Y_test))"
   ]
  },
  {
   "attachments": {},
   "cell_type": "markdown",
   "metadata": {},
   "source": [
    "# Import Export Model"
   ]
  },
  {
   "attachments": {},
   "cell_type": "markdown",
   "metadata": {},
   "source": [
    "## Save Model"
   ]
  },
  {
   "cell_type": "code",
   "execution_count": null,
   "metadata": {},
   "outputs": [],
   "source": [
    "import pickle\n",
    "\n",
    "# Save to file in the current working directory\n",
    "pkl_filename = \"or_kneighbour.pkl\"\n",
    "with open(pkl_filename, 'wb') as file:\n",
    "    pickle.dump(clf3, file)"
   ]
  },
  {
   "attachments": {},
   "cell_type": "markdown",
   "metadata": {},
   "source": [
    "## Import Model"
   ]
  },
  {
   "cell_type": "code",
   "execution_count": 15,
   "metadata": {},
   "outputs": [],
   "source": [
    "import pickle\n",
    "\n",
    "# Load from file\n",
    "with open(\"or_kneighbour.pkl\", 'rb') as file:\n",
    "    pickle_model = pickle.load(file)"
   ]
  },
  {
   "cell_type": "code",
   "execution_count": null,
   "metadata": {},
   "outputs": [],
   "source": [
    "# Calculate the accuracy score and predict target values\n",
    "score = pickle_model.score(X_test, Y_test)\n",
    "print(\"Test score: {0:.2f} %\".format(100 * score))\n",
    "Ypredict = pickle_model.predict(X_test)"
   ]
  },
  {
   "cell_type": "code",
   "execution_count": 21,
   "metadata": {},
   "outputs": [
    {
     "name": "stdout",
     "output_type": "stream",
     "text": [
      "    height   width\n",
      "0     17.0    14.0\n",
      "['foot']\n"
     ]
    }
   ],
   "source": [
    "print(x.head(1))\n",
    "\n",
    "result = pickle_model.predict(x.head(1))\n",
    "print(result)"
   ]
  }
 ],
 "metadata": {
  "kernelspec": {
   "display_name": "Python 3",
   "language": "python",
   "name": "python3"
  },
  "language_info": {
   "codemirror_mode": {
    "name": "ipython",
    "version": 3
   },
   "file_extension": ".py",
   "mimetype": "text/x-python",
   "name": "python",
   "nbconvert_exporter": "python",
   "pygments_lexer": "ipython3",
   "version": "3.9.2"
  },
  "orig_nbformat": 4,
  "vscode": {
   "interpreter": {
    "hash": "fe8435a047cf475b5e679816df3f52433e8aa51c7ffa6d4258866ecd432afda2"
   }
  }
 },
 "nbformat": 4,
 "nbformat_minor": 2
}
