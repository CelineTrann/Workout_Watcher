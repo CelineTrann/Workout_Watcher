{
 "cells": [
  {
   "cell_type": "code",
   "execution_count": 46,
   "metadata": {},
   "outputs": [],
   "source": [
    "import numpy as np\n",
    "import pandas as pd\n",
    "import matplotlib as plt\n",
    "\n",
    "%matplotlib inline"
   ]
  },
  {
   "cell_type": "code",
   "execution_count": 47,
   "metadata": {},
   "outputs": [
    {
     "name": "stdout",
     "output_type": "stream",
     "text": [
      "   centroid_x   centroid_y     height      width   rotation  label\n",
      "0   12.500000    14.000000  17.000000  14.000000  90.000000   foot\n",
      "1    3.000000     8.000000   6.000000  16.000000  90.000000   foot\n",
      "2   13.386599    12.505155  13.808708  19.596182  23.962492   foot\n",
      "3   11.500000    11.500000  23.000000   9.000000  90.000000   foot\n",
      "4   11.500000     7.500000  15.000000   9.000000  90.000000   foot\n"
     ]
    }
   ],
   "source": [
    "# data = pd.read_csv(\"C:\\\\Users\\\\crona\\\\Downloads\\\\4B_tron\\\\Capstone\\\\Workout_Watcher\\\\test_or.csv\")\n",
    "data = pd.read_csv(\"C:\\\\Users\\\\crona\\\\Downloads\\\\4B_tron\\\\Capstone\\\\Workout_Watcher\\\\test1.csv\")\n",
    "print(data.head())"
   ]
  },
  {
   "cell_type": "code",
   "execution_count": 48,
   "metadata": {},
   "outputs": [
    {
     "name": "stdout",
     "output_type": "stream",
     "text": [
      "0    foot\n",
      "1    foot\n",
      "2    foot\n",
      "3    foot\n",
      "4    foot\n",
      "Name:  label, dtype: object\n"
     ]
    }
   ],
   "source": [
    "y = data[data.columns[5]]\n",
    "print(y.head())"
   ]
  },
  {
   "cell_type": "code",
   "execution_count": 49,
   "metadata": {},
   "outputs": [
    {
     "name": "stdout",
     "output_type": "stream",
     "text": [
      "      height      width\n",
      "0  17.000000  14.000000\n",
      "1   6.000000  16.000000\n",
      "2  13.808708  19.596182\n",
      "3  23.000000   9.000000\n",
      "4  15.000000   9.000000\n"
     ]
    }
   ],
   "source": [
    "x = data[data.columns[[2, 3]]]\n",
    "print(x.head())"
   ]
  },
  {
   "cell_type": "code",
   "execution_count": 50,
   "metadata": {},
   "outputs": [],
   "source": [
    "from sklearn.model_selection import train_test_split\n",
    "from sklearn.ensemble import RandomForestClassifier\n",
    "\n",
    "X_train, X_test, Y_train, Y_test = train_test_split(x, y, test_size=0.2)"
   ]
  },
  {
   "cell_type": "code",
   "execution_count": 51,
   "metadata": {},
   "outputs": [
    {
     "name": "stdout",
     "output_type": "stream",
     "text": [
      "0.6551724137931034\n"
     ]
    }
   ],
   "source": [
    "clf = RandomForestClassifier()\n",
    "clf.fit(X_train, Y_train)\n",
    "\n",
    "# Model Performance \n",
    "print(clf.score(X_test, Y_test))"
   ]
  }
 ],
 "metadata": {
  "kernelspec": {
   "display_name": "Python 3",
   "language": "python",
   "name": "python3"
  },
  "language_info": {
   "codemirror_mode": {
    "name": "ipython",
    "version": 3
   },
   "file_extension": ".py",
   "mimetype": "text/x-python",
   "name": "python",
   "nbconvert_exporter": "python",
   "pygments_lexer": "ipython3",
   "version": "3.9.2"
  },
  "orig_nbformat": 4,
  "vscode": {
   "interpreter": {
    "hash": "fe8435a047cf475b5e679816df3f52433e8aa51c7ffa6d4258866ecd432afda2"
   }
  }
 },
 "nbformat": 4,
 "nbformat_minor": 2
}
